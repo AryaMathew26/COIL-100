{
 "cells": [
  {
   "cell_type": "code",
   "execution_count": 1,
   "id": "849f9744",
   "metadata": {},
   "outputs": [],
   "source": [
    "import os\n",
    "import numpy as np\n",
    "import glob\n",
    "\n",
    "import matplotlib.pyplot as plt\n",
    "import matplotlib.image as mpimg\n",
    "\n",
    "import cv2 # opencv"
   ]
  },
  {
   "cell_type": "code",
   "execution_count": 5,
   "id": "ac85a2f8",
   "metadata": {},
   "outputs": [],
   "source": [
    "# make some library declarations\n",
    "import keras\n",
    "\n",
    "from keras.models import Sequential\n",
    "from keras.layers import Dense, Dropout\n",
    "from keras.optimizers import Adam, RMSprop"
   ]
  },
  {
   "cell_type": "markdown",
   "id": "8ba44ab7",
   "metadata": {},
   "source": [
    "## Improving performance"
   ]
  },
  {
   "cell_type": "code",
   "execution_count": 54,
   "id": "e38f2c17",
   "metadata": {},
   "outputs": [
    {
     "name": "stdout",
     "output_type": "stream",
     "text": [
      "read  7200  images \n"
     ]
    }
   ],
   "source": [
    "num_classes = 100\n",
    "\n",
    "data_dir = \"/Users/aryamathew/Downloads/data/coil-100/\"\n",
    "\n",
    "images = []\n",
    "classes = []\n",
    "example_images = []\n",
    "do_limit = False\n",
    "max_per_class = 32\n",
    "for i in range(num_classes):\n",
    "\n",
    "    filenames = glob.glob(data_dir + 'obj' + str(i+1) + '_*.png')\n",
    "    \n",
    "    for j in range(len(filenames)):\n",
    "        \n",
    "        #print('reading ', filenames[j])\n",
    "        im_gbr = cv2.imread(filenames[j])\n",
    "        im = cv2.cvtColor(im_gbr,cv2.COLOR_BGR2RGB) # convert from BGR ordering to RGB\n",
    "        \n",
    "        images.append(im)\n",
    "        classes.append(i)\n",
    "\n",
    "        if (j==0):\n",
    "            example_images.append(im) # keep the first example of each class\n",
    "            \n",
    "        # limit to 10 images per example\n",
    "        if do_limit:\n",
    "            if (j>=max_per_class):\n",
    "                break\n",
    "                \n",
    "print('read ', len(images), ' images ')"
   ]
  },
  {
   "cell_type": "code",
   "execution_count": 55,
   "id": "c272e951",
   "metadata": {},
   "outputs": [],
   "source": [
    "from skimage.color import rgb2gray\n",
    "dataXout = []\n",
    "\n",
    "for img, y in zip(images, classes):\n",
    "    img2 = rgb2gray(img)\n",
    "    img2 = np.array(img, dtype=np.float32) / 255.0\n",
    "    dataXout.append(img2)\n",
    "\n",
    "dataX = np.array(dataXout)\n",
    "dataY = keras.utils.to_categorical(classes)\n",
    "\n",
    "from sklearn.model_selection import train_test_split\n",
    "\n",
    "X_trainVal, X_test, y_trainVal, y_test = train_test_split(dataX, dataY, test_size=0.25)\n",
    "X_train, X_val, y_train, y_val = train_test_split(X_trainVal, y_trainVal, test_size=0.25)"
   ]
  },
  {
   "cell_type": "code",
   "execution_count": 56,
   "id": "7a057576",
   "metadata": {},
   "outputs": [
    {
     "data": {
      "text/plain": [
       "(7200, 100)"
      ]
     },
     "execution_count": 56,
     "metadata": {},
     "output_type": "execute_result"
    }
   ],
   "source": [
    "dataY.shape"
   ]
  },
  {
   "cell_type": "code",
   "execution_count": 58,
   "id": "63bfc0f5",
   "metadata": {},
   "outputs": [
    {
     "name": "stdout",
     "output_type": "stream",
     "text": [
      "Epoch 1/10\n",
      "127/127 [==============================] - 12s 96ms/step - loss: 3.6818 - accuracy: 0.4600\n",
      "Epoch 2/10\n",
      "127/127 [==============================] - 12s 93ms/step - loss: 0.2056 - accuracy: 0.9563\n",
      "Epoch 3/10\n",
      "127/127 [==============================] - 12s 94ms/step - loss: 0.0616 - accuracy: 0.9862\n",
      "Epoch 4/10\n",
      "127/127 [==============================] - 12s 94ms/step - loss: 0.0182 - accuracy: 0.9978\n",
      "Epoch 5/10\n",
      "127/127 [==============================] - 12s 94ms/step - loss: 0.0202 - accuracy: 0.9960\n",
      "Epoch 6/10\n",
      "127/127 [==============================] - 12s 92ms/step - loss: 0.0043 - accuracy: 0.9995\n",
      "Epoch 7/10\n",
      "127/127 [==============================] - 12s 92ms/step - loss: 0.0015 - accuracy: 1.0000\n",
      "Epoch 8/10\n",
      "127/127 [==============================] - 12s 92ms/step - loss: 0.0011 - accuracy: 1.0000\n",
      "Epoch 9/10\n",
      "127/127 [==============================] - 12s 93ms/step - loss: 8.7597e-04 - accuracy: 1.0000\n",
      "Epoch 10/10\n",
      "127/127 [==============================] - 12s 93ms/step - loss: 7.1918e-04 - accuracy: 1.0000\n"
     ]
    }
   ],
   "source": [
    "model = keras.models.Sequential()\n",
    "model.add(keras.layers.Conv2D(32, (3, 3), activation='relu', kernel_initializer='he_uniform', input_shape=(128, 128, 3)))\n",
    "model.add(keras.layers.MaxPooling2D((2, 2)))\n",
    "model.add(keras.layers.Flatten())\n",
    "model.add(keras.layers.Dense(200, activation='relu', kernel_initializer='he_uniform'))\n",
    "model.add(keras.layers.Dense(100, activation='softmax'))\n",
    "\n",
    "# compile and train it!\n",
    "epochs = 10 # 100, 300, 500 you choose\n",
    "batch_size = 32 # 32, 64, 128 you choose\n",
    "# compile model\n",
    "model.compile(optimizer='adam', loss='categorical_crossentropy', metrics=['accuracy'])\n",
    "# model.fit(X,y,nb_epoch = 1000, batch_size = 4)\n",
    "history=model.fit(X_train,y_train ,epochs = epochs, batch_size = batch_size)"
   ]
  },
  {
   "cell_type": "code",
   "execution_count": 53,
   "id": "dc7812f5",
   "metadata": {},
   "outputs": [
    {
     "name": "stdout",
     "output_type": "stream",
     "text": [
      "dict_keys(['loss', 'accuracy'])\n"
     ]
    },
    {
     "data": {
      "image/png": "[encoded data removed]",
      "text/plain": [
       "<Figure size 432x288 with 1 Axes>"
      ]
     },
     "metadata": {
      "needs_background": "light"
     },
     "output_type": "display_data"
    },
    {
     "data": {
      "image/png": "[encoded data removed]",
      "text/plain": [
       "<Figure size 432x288 with 1 Axes>"
      ]
     },
     "metadata": {
      "needs_background": "light"
     },
     "output_type": "display_data"
    }
   ],
   "source": [
    "# this plots the change of accuracy and loss over time (stored in the 'history')\n",
    "\n",
    "print(history.history.keys())\n",
    "# summarize history for accuracy\n",
    "plt.plot(history.history['accuracy'])\n",
    "plt.title('model accuracy')\n",
    "plt.ylabel('accuracy')\n",
    "plt.xlabel('epoch')\n",
    "plt.show()\n",
    "# summarize history for loss\n",
    "plt.plot(history.history['loss'])\n",
    "plt.title('model loss')\n",
    "plt.ylabel('loss')\n",
    "plt.xlabel('epoch')\n",
    "plt.show()"
   ]
  }
 ],
 "metadata": {
  "kernelspec": {
   "display_name": "Python 3 (ipykernel)",
   "language": "python",
   "name": "python3"
  },
  "language_info": {
   "codemirror_mode": {
    "name": "ipython",
    "version": 3
   },
   "file_extension": ".py",
   "mimetype": "text/x-python",
   "name": "python",
   "nbconvert_exporter": "python",
   "pygments_lexer": "ipython3",
   "version": "3.9.12"
  }
 },
 "nbformat": 4,
 "nbformat_minor": 5
}
